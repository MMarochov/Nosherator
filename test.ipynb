{
 "cells": [
  {
   "cell_type": "code",
   "execution_count": 16,
   "metadata": {},
   "outputs": [],
   "source": [
    "import string\n",
    "import random\n",
    "import re"
   ]
  },
  {
   "cell_type": "code",
   "execution_count": 25,
   "metadata": {},
   "outputs": [
    {
     "name": "stdout",
     "output_type": "stream",
     "text": [
      "Quatherine Queatherstone\n"
     ]
    }
   ],
   "source": [
    "input_name = 'Katherine Featherstone'\n",
    "name_lower = input_name.lower()\n",
    "name_lower = re.sub(' +', ' ', name_lower)\n",
    "name_split = name_lower.split(\" \")\n",
    "vowels = ('a','e','i','o','u')\n",
    "prefixes = ('B','C','D','F','G','H','J','K','L','M','N','P','Qu','R','S','T','V','W','X','Y','Z','Sh','Fl','Ch')\n",
    "\n",
    "prefix = random.choice(prefixes)\n",
    "prefixed_name = \" \"\n",
    "name_list = []\n",
    "for name in name_split:\n",
    "    if name.startswith(vowels):\n",
    "        name = f'{prefix}{name}'\n",
    "        name_list.append(name)\n",
    "    else:\n",
    "        name = name.replace(name[0], prefix)\n",
    "        name_list.append(name)\n",
    "prefixed_name = prefixed_name.join(name_list)\n",
    "print(prefixed_name)"
   ]
  }
 ],
 "metadata": {
  "interpreter": {
   "hash": "3cf0a03d734a1da0cf42ea576e1706ca283cde7573e178e2fbf3030a6acfcc8d"
  },
  "kernelspec": {
   "display_name": "Python 3.11.0 ('nosherator')",
   "language": "python",
   "name": "python3"
  },
  "language_info": {
   "codemirror_mode": {
    "name": "ipython",
    "version": 3
   },
   "file_extension": ".py",
   "mimetype": "text/x-python",
   "name": "python",
   "nbconvert_exporter": "python",
   "pygments_lexer": "ipython3",
   "version": "3.11.0"
  },
  "orig_nbformat": 4
 },
 "nbformat": 4,
 "nbformat_minor": 2
}
