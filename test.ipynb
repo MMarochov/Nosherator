{
 "cells": [
  {
   "cell_type": "code",
   "execution_count": null,
   "metadata": {},
   "outputs": [],
   "source": [
    "import string\n",
    "import random"
   ]
  },
  {
   "cell_type": "code",
   "execution_count": null,
   "metadata": {},
   "outputs": [],
   "source": [
    "input_name = 'Mel Marochov'\n",
    "name_lower = input_name.lower()\n",
    "processed_name = f\" \".join([x[1:] for x in name_lower.split(\" \")])\n",
    "for n in processed_name.split(\" \"):\n",
    "    name_prefix = random.choice(string.ascii_uppercase)\n",
    "    print(name_prefix+n)"
   ]
  }
 ],
 "metadata": {
  "interpreter": {
   "hash": "3cf0a03d734a1da0cf42ea576e1706ca283cde7573e178e2fbf3030a6acfcc8d"
  },
  "kernelspec": {
   "display_name": "Python 3.11.0 ('nosherator')",
   "language": "python",
   "name": "python3"
  },
  "language_info": {
   "codemirror_mode": {
    "name": "ipython",
    "version": 3
   },
   "file_extension": ".py",
   "mimetype": "text/x-python",
   "name": "python",
   "nbconvert_exporter": "python",
   "pygments_lexer": "ipython3",
   "version": "3.11.0"
  },
  "orig_nbformat": 4
 },
 "nbformat": 4,
 "nbformat_minor": 2
}
