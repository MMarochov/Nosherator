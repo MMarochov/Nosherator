{
 "cells": [
  {
   "cell_type": "code",
   "execution_count": 2,
   "metadata": {},
   "outputs": [],
   "source": [
    "import string\n",
    "import random\n",
    "import re"
   ]
  },
  {
   "cell_type": "code",
   "execution_count": 44,
   "metadata": {},
   "outputs": [
    {
     "name": "stdout",
     "output_type": "stream",
     "text": [
      "Shelio Sharochov\n"
     ]
    }
   ],
   "source": [
    "input_name = '   Melio   Marochov  '\n",
    "name_lower = input_name.lower()\n",
    "name_lower = re.sub(' +', ' ', name_lower) # replaces multiple spaces with single space for splitting on\n",
    "name_split = name_lower.split(\" \")\n",
    "name_split = list(filter(None, name_split)) # remove any empty strings in list\n",
    "vowels = ('a','e','i','o','u')\n",
    "prefixes = ('B','C','D','F','G','H','J','K','L','M','N','P','Qu','R','S','T','V','W','X','Y','Z','Sh','Fl','Ch', 'Th', 'Pl', 'Tw', 'Sl', 'Cl', 'Dw', 'Shr', 'Bl', 'Sm')\n",
    "prefix = random.choice(prefixes)\n",
    "name_list = []\n",
    "prefixed_name = \" \"\n",
    "\n",
    "for name in name_split:\n",
    "    if name.startswith(vowels):\n",
    "        name = f'{prefix}{name}'\n",
    "        name_list.append(name)\n",
    "    else:\n",
    "        name = name.replace(name[0], prefix)\n",
    "        name_list.append(name)\n",
    "prefixed_name = prefixed_name.join(name_list)\n",
    "print(prefixed_name)\n",
    "\n",
    "# remove all letters before vowel?\n",
    "# remove possibility of name beginning already"
   ]
  },
  {
   "cell_type": "code",
   "execution_count": 13,
   "metadata": {},
   "outputs": [
    {
     "name": "stdout",
     "output_type": "stream",
     "text": [
      "*autotune* D𝓌ₐₛₒₙ D𝓌ₑᵣᵤₗₒₒₒ\n"
     ]
    }
   ],
   "source": [
    "phrases = (\"The name's Shrond, Shrames Shrond.\", \"*autotune* D𝓌ₐₛₒₙ D𝓌ₑᵣᵤₗₒₒₒ\", \"A wizard is never late, Throdo Thraggins. Nor is he early. He arrives precisely when he means to. - Thrandalf\")\n",
    "print(random.choice(phrases))"
   ]
  }
 ],
 "metadata": {
  "interpreter": {
   "hash": "3cf0a03d734a1da0cf42ea576e1706ca283cde7573e178e2fbf3030a6acfcc8d"
  },
  "kernelspec": {
   "display_name": "Python 3.11.0 ('nosherator')",
   "language": "python",
   "name": "python3"
  },
  "language_info": {
   "codemirror_mode": {
    "name": "ipython",
    "version": 3
   },
   "file_extension": ".py",
   "mimetype": "text/x-python",
   "name": "python",
   "nbconvert_exporter": "python",
   "pygments_lexer": "ipython3",
   "version": "3.11.0"
  },
  "orig_nbformat": 4
 },
 "nbformat": 4,
 "nbformat_minor": 2
}
